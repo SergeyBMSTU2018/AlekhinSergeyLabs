{
  "cells": [
    {
      "cell_type": "code",
      "execution_count": 37,
      "metadata": {
        "colab": {
          "base_uri": "https://localhost:8080/"
        },
        "id": "oYg-cg2Vv1ho",
        "outputId": "5cd92c8a-6056-4d93-b20b-77904b25669a"
      },
      "outputs": [
        {
          "name": "stdout",
          "output_type": "stream",
          "text": [
            "Requirement already satisfied: gymnasium in /Users/seralekhin/BMSTU_Labs/.env/lib/python3.11/site-packages (0.28.1)\n",
            "Requirement already satisfied: numpy>=1.21.0 in /Users/seralekhin/BMSTU_Labs/.env/lib/python3.11/site-packages (from gymnasium) (1.25.0)\n",
            "Requirement already satisfied: jax-jumpy>=1.0.0 in /Users/seralekhin/BMSTU_Labs/.env/lib/python3.11/site-packages (from gymnasium) (1.0.0)\n",
            "Requirement already satisfied: cloudpickle>=1.2.0 in /Users/seralekhin/BMSTU_Labs/.env/lib/python3.11/site-packages (from gymnasium) (2.2.1)\n",
            "Requirement already satisfied: typing-extensions>=4.3.0 in /Users/seralekhin/BMSTU_Labs/.env/lib/python3.11/site-packages (from gymnasium) (4.6.3)\n",
            "Requirement already satisfied: farama-notifications>=0.0.1 in /Users/seralekhin/BMSTU_Labs/.env/lib/python3.11/site-packages (from gymnasium) (0.0.4)\n",
            "Requirement already satisfied: pygame in /Users/seralekhin/BMSTU_Labs/.env/lib/python3.11/site-packages (2.4.0)\n"
          ]
        }
      ],
      "source": [
        "! pip install gymnasium\n",
        "! pip install pygame \n",
        "\n",
        "import os\n",
        "import pygame\n",
        "import gymnasium as gym\n",
        "import numpy as np\n",
        "from pprint import pprint"
      ]
    },
    {
      "cell_type": "code",
      "execution_count": 38,
      "metadata": {
        "id": "-Cbop2JvwUD3"
      },
      "outputs": [],
      "source": [
        "class PolicyIterationAgent:\n",
        "    '''\n",
        "    Класс, эмулирующий работу агента\n",
        "    '''\n",
        "    def __init__(self, env):\n",
        "        self.env = env\n",
        "        # Пространство состояний\n",
        "        self.observation_dim = 4 * 12\n",
        "        # Массив действий в соответствии с документацией\n",
        "        # https://gymnasium.farama.org/environments/toy_text/taxi/\n",
        "        self.actions_variants = np.array([0,1,2,3])\n",
        "        # 0: Move south (down)\n",
        "        # 1: Move north (up)\n",
        "        # 2: Move east (right)\n",
        "        # 3: Move west (left)\n",
        "        # 4: Pickup passenger\n",
        "        # 5: Drop off passenger\n",
        "        # Задание стратегии (политики)\n",
        "        # Карта 4х12 и 4 возможных действия\n",
        "        self.policy_probs = np.full((self.observation_dim, len(self.actions_variants)), 0.25)\n",
        "        # Начальные значения для v(s)\n",
        "        self.state_values = np.zeros(shape=(self.observation_dim))\n",
        "        # Начальные значения параметров\n",
        "        self.maxNumberOfIterations = 1000\n",
        "        self.theta=1e-6\n",
        "        self.gamma=0.99\n",
        "\n",
        "    def print_policy(self):\n",
        "        '''\n",
        "        Вывод матриц стратегии\n",
        "        '''\n",
        "        print('Стратегия:')\n",
        "        pprint(self.policy_probs)\n",
        "\n",
        "    def policy_evaluation(self):\n",
        "        '''\n",
        "        Оценивание стратегии\n",
        "        '''\n",
        "        # Предыдущее значение функции ценности\n",
        "        valueFunctionVector = self.state_values\n",
        "        for iterations in range(self.maxNumberOfIterations):\n",
        "            # Новое значение функции ценности\n",
        "            valueFunctionVectorNextIteration=np.zeros(shape=(self.observation_dim))\n",
        "            # Цикл по состояниям\n",
        "            for state in range(self.observation_dim):\n",
        "                # Вероятности действий\n",
        "                action_probabilities = self.policy_probs[state]\n",
        "                # Цикл по действиям\n",
        "                outerSum=0\n",
        "                for action, prob in enumerate(action_probabilities):\n",
        "                    innerSum=0\n",
        "                    # Цикл по вероятностям действий\n",
        "                    for probability, next_state, reward, isTerminalState in self.env.P[state][action]:\n",
        "                        innerSum=innerSum+probability*(reward+self.gamma*self.state_values[next_state])\n",
        "                    outerSum=outerSum+self.policy_probs[state][action]*innerSum\n",
        "                valueFunctionVectorNextIteration[state]=outerSum\n",
        "            if(np.max(np.abs(valueFunctionVectorNextIteration-valueFunctionVector))<self.theta):\n",
        "                # Проверка сходимости алгоритма\n",
        "                valueFunctionVector=valueFunctionVectorNextIteration\n",
        "                break\n",
        "            valueFunctionVector=valueFunctionVectorNextIteration\n",
        "        return valueFunctionVector\n",
        "\n",
        "\n",
        "    def policy_improvement(self):\n",
        "        '''\n",
        "        Улучшение стратегии\n",
        "        '''\n",
        "        qvaluesMatrix=np.zeros((self.observation_dim, len(self.actions_variants)))\n",
        "        improvedPolicy=np.zeros((self.observation_dim, len(self.actions_variants)))\n",
        "        # Цикл по состояниям\n",
        "        for state in range(self.observation_dim):\n",
        "            for action in range(len(self.actions_variants)):\n",
        "                for probability, next_state, reward, isTerminalState in self.env.P[state][action]:\n",
        "                    qvaluesMatrix[state,action]=qvaluesMatrix[state,action]+probability*(reward+self.gamma*self.state_values[next_state])\n",
        "\n",
        "            # Находим лучшие индексы\n",
        "            bestActionIndex=np.where(qvaluesMatrix[state,:]==np.max(qvaluesMatrix[state,:]))\n",
        "            # Обновление стратегии\n",
        "            improvedPolicy[state,bestActionIndex]=1/np.size(bestActionIndex)\n",
        "        return improvedPolicy\n",
        "\n",
        "\n",
        "    def policy_iteration(self, cnt):\n",
        "        '''\n",
        "        Основная реализация алгоритма\n",
        "        '''\n",
        "        policy_stable = False\n",
        "        for i in range(1, cnt+1):\n",
        "            self.state_values = self.policy_evaluation()\n",
        "            self.policy_probs = self.policy_improvement()\n",
        "        print(f'Алгоритм выполнился за {i} шагов.')"
      ]
    },
    {
      "cell_type": "code",
      "execution_count": 39,
      "metadata": {
        "id": "25eO-T6twckB"
      },
      "outputs": [],
      "source": [
        "def play_agent(agent):\n",
        "    env2 = gym.make('CliffWalking-v0', render_mode='human')\n",
        "    state = env2.reset()[0]\n",
        "    done = False\n",
        "    while not done:\n",
        "        p = agent.policy_probs[state]\n",
        "        if isinstance(p, np.ndarray):\n",
        "            action = np.random.choice(len(agent.actions_variants), p=p)\n",
        "        else:\n",
        "            action = p\n",
        "        next_state, reward, terminated, truncated, _ = env2.step(action)\n",
        "        env2.render()\n",
        "        state = next_state\n",
        "        if terminated or truncated:\n",
        "            done = True\n"
      ]
    },
    {
      "cell_type": "code",
      "execution_count": 40,
      "metadata": {
        "colab": {
          "base_uri": "https://localhost:8080/"
        },
        "id": "HYbsXYLcwe9W",
        "outputId": "f16b988e-abcb-4270-badf-c0718cc3ac67"
      },
      "outputs": [
        {
          "name": "stdout",
          "output_type": "stream",
          "text": [
            "Алгоритм выполнился за 1000 шагов.\n",
            "Стратегия:\n",
            "array([[0.        , 0.5       , 0.5       , 0.        ],\n",
            "       [0.33333333, 0.33333333, 0.33333333, 0.        ],\n",
            "       [0.        , 0.        , 1.        , 0.        ],\n",
            "       [0.        , 0.        , 1.        , 0.        ],\n",
            "       [0.        , 0.        , 1.        , 0.        ],\n",
            "       [0.        , 0.        , 1.        , 0.        ],\n",
            "       [0.        , 0.        , 1.        , 0.        ],\n",
            "       [0.        , 0.        , 1.        , 0.        ],\n",
            "       [0.        , 0.        , 1.        , 0.        ],\n",
            "       [0.        , 0.        , 1.        , 0.        ],\n",
            "       [0.33333333, 0.        , 0.33333333, 0.33333333],\n",
            "       [0.        , 0.        , 0.5       , 0.5       ],\n",
            "       [0.        , 0.        , 1.        , 0.        ],\n",
            "       [0.        , 0.5       , 0.5       , 0.        ],\n",
            "       [0.        , 0.5       , 0.5       , 0.        ],\n",
            "       [0.        , 0.33333333, 0.33333333, 0.33333333],\n",
            "       [0.        , 0.33333333, 0.33333333, 0.33333333],\n",
            "       [0.        , 0.33333333, 0.33333333, 0.33333333],\n",
            "       [0.        , 0.33333333, 0.33333333, 0.33333333],\n",
            "       [0.        , 0.33333333, 0.33333333, 0.33333333],\n",
            "       [0.        , 0.33333333, 0.33333333, 0.33333333],\n",
            "       [0.        , 0.        , 0.5       , 0.5       ],\n",
            "       [0.        , 0.        , 0.5       , 0.5       ],\n",
            "       [0.        , 0.        , 1.        , 0.        ],\n",
            "       [0.        , 0.33333333, 0.33333333, 0.33333333],\n",
            "       [0.        , 0.5       , 0.        , 0.5       ],\n",
            "       [0.33333333, 0.33333333, 0.        , 0.33333333],\n",
            "       [0.33333333, 0.33333333, 0.        , 0.33333333],\n",
            "       [0.33333333, 0.33333333, 0.        , 0.33333333],\n",
            "       [0.33333333, 0.33333333, 0.        , 0.33333333],\n",
            "       [0.33333333, 0.33333333, 0.        , 0.33333333],\n",
            "       [0.33333333, 0.33333333, 0.        , 0.33333333],\n",
            "       [0.33333333, 0.33333333, 0.        , 0.33333333],\n",
            "       [0.33333333, 0.33333333, 0.        , 0.33333333],\n",
            "       [0.        , 0.5       , 0.        , 0.5       ],\n",
            "       [0.        , 0.33333333, 0.33333333, 0.33333333],\n",
            "       [0.33333333, 0.        , 0.33333333, 0.33333333],\n",
            "       [0.5       , 0.        , 0.        , 0.5       ],\n",
            "       [1.        , 0.        , 0.        , 0.        ],\n",
            "       [1.        , 0.        , 0.        , 0.        ],\n",
            "       [1.        , 0.        , 0.        , 0.        ],\n",
            "       [1.        , 0.        , 0.        , 0.        ],\n",
            "       [1.        , 0.        , 0.        , 0.        ],\n",
            "       [1.        , 0.        , 0.        , 0.        ],\n",
            "       [1.        , 0.        , 0.        , 0.        ],\n",
            "       [1.        , 0.        , 0.        , 0.        ],\n",
            "       [0.5       , 0.5       , 0.        , 0.        ],\n",
            "       [0.33333333, 0.33333333, 0.33333333, 0.        ]])\n"
          ]
        }
      ],
      "source": [
        "# Создание среды\n",
        "env = gym.make('CliffWalking-v0')\n",
        "env.reset()\n",
        "# Обучение агента\n",
        "agent = PolicyIterationAgent(env)\n",
        "agent.policy_iteration(1000)\n",
        "agent.print_policy()\n",
        "# Проигрывание сцены для обученного агента\n",
        "play_agent(agent)"
      ]
    }
  ],
  "metadata": {
    "colab": {
      "provenance": []
    },
    "kernelspec": {
      "display_name": "Python 3",
      "name": "python3"
    },
    "language_info": {
      "codemirror_mode": {
        "name": "ipython",
        "version": 3
      },
      "file_extension": ".py",
      "mimetype": "text/x-python",
      "name": "python",
      "nbconvert_exporter": "python",
      "pygments_lexer": "ipython3",
      "version": "3.11.4"
    }
  },
  "nbformat": 4,
  "nbformat_minor": 0
}
